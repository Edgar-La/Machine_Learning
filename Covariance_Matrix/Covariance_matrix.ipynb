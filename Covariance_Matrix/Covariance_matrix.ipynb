{
  "nbformat": 4,
  "nbformat_minor": 0,
  "metadata": {
    "colab": {
      "name": "Covariance_matrix.ipynb",
      "provenance": [],
      "authorship_tag": "ABX9TyMPiUnu2sZ+Ln3LyUiB2GRu",
      "include_colab_link": true
    },
    "kernelspec": {
      "name": "python3",
      "display_name": "Python 3"
    }
  },
  "cells": [
    {
      "cell_type": "markdown",
      "metadata": {
        "id": "view-in-github",
        "colab_type": "text"
      },
      "source": [
        "<a href=\"https://colab.research.google.com/github/Edgar-La/Machine_Learning/blob/main/Covariance_Matrix/Covariance_matrix.ipynb\" target=\"_parent\"><img src=\"https://colab.research.google.com/assets/colab-badge.svg\" alt=\"Open In Colab\"/></a>"
      ]
    },
    {
      "cell_type": "markdown",
      "metadata": {
        "id": "L88Mc5IbEelI"
      },
      "source": [
        "## Section to define the functions"
      ]
    },
    {
      "cell_type": "markdown",
      "metadata": {
        "id": "ULVkvpPbACzC"
      },
      "source": [
        "Generate a 10 rows and 5 columns matrix. With random integer numbers (1,100)."
      ]
    },
    {
      "cell_type": "code",
      "metadata": {
        "id": "0Plbja1GAls8"
      },
      "source": [
        "import pandas as pd\r\n",
        "import numpy as np"
      ],
      "execution_count": 20,
      "outputs": []
    },
    {
      "cell_type": "code",
      "metadata": {
        "id": "xpu2XIHs_0Af"
      },
      "source": [
        "#Generate a random matrix using numpy\r\n",
        "def generate_random_matrix(rows, cols, min, max):\r\n",
        "  return np.random.randint(min,max,(rows,cols))"
      ],
      "execution_count": 21,
      "outputs": []
    },
    {
      "cell_type": "code",
      "metadata": {
        "id": "N4rx5EvtCW3Z"
      },
      "source": [
        "#Open a csv file with a random matrix\r\n",
        "def open_file(name_file):\r\n",
        "  return  pd.read_csv(name_file, header=None)"
      ],
      "execution_count": 35,
      "outputs": []
    },
    {
      "cell_type": "code",
      "metadata": {
        "id": "H4G-XgNOC0gx"
      },
      "source": [
        "#Convert pandas datframe to numpy matrix\r\n",
        "def dataframe_to_matrix(df):\r\n",
        "  return np.array(df)"
      ],
      "execution_count": 37,
      "outputs": []
    },
    {
      "cell_type": "code",
      "metadata": {
        "id": "m8ob0Nd2BQPF"
      },
      "source": [
        "#Create the covariance matrix\r\n",
        "#Notice that I use matrix.T, where matrix.T is the transpose matrix\r\n",
        "def covariance_matrix(matrix):\r\n",
        "  return np.cov(matrix.T)"
      ],
      "execution_count": 48,
      "outputs": []
    },
    {
      "cell_type": "code",
      "metadata": {
        "id": "g_kQPkYvFMmP"
      },
      "source": [
        "#Convert the numpy matrix to dateframe\r\n",
        "def covariance_matrix_to_df(covariance_matrix):\r\n",
        "  return pd.DataFrame(covariance_matrix)"
      ],
      "execution_count": 54,
      "outputs": []
    },
    {
      "cell_type": "code",
      "metadata": {
        "id": "UHH8wVxpFwiC"
      },
      "source": [
        "#Save the dataframe to csv file\r\n",
        "def df_to_csv(covariance_matrix_df, name_file):\r\n",
        "  covariance_matrix_df.to_csv(name_file,index = False, header = False)"
      ],
      "execution_count": 56,
      "outputs": []
    },
    {
      "cell_type": "markdown",
      "metadata": {
        "id": "-3wltyuuDeRT"
      },
      "source": [
        "## Section to call the functions"
      ]
    },
    {
      "cell_type": "code",
      "metadata": {
        "id": "Aa9TicDqAzbw"
      },
      "source": [
        "#matrix = generate_random_matrix(10, 5, 1, 100)\r\n",
        "#matrix"
      ],
      "execution_count": 31,
      "outputs": []
    },
    {
      "cell_type": "code",
      "metadata": {
        "colab": {
          "base_uri": "https://localhost:8080/",
          "height": 340
        },
        "id": "41vqRvMFCnyA",
        "outputId": "86724d3e-12db-474a-ec81-64e9bebfa300"
      },
      "source": [
        "df = open_file('Random_matrix.csv')\r\n",
        "df"
      ],
      "execution_count": 36,
      "outputs": [
        {
          "output_type": "execute_result",
          "data": {
            "text/html": [
              "<div>\n",
              "<style scoped>\n",
              "    .dataframe tbody tr th:only-of-type {\n",
              "        vertical-align: middle;\n",
              "    }\n",
              "\n",
              "    .dataframe tbody tr th {\n",
              "        vertical-align: top;\n",
              "    }\n",
              "\n",
              "    .dataframe thead th {\n",
              "        text-align: right;\n",
              "    }\n",
              "</style>\n",
              "<table border=\"1\" class=\"dataframe\">\n",
              "  <thead>\n",
              "    <tr style=\"text-align: right;\">\n",
              "      <th></th>\n",
              "      <th>0</th>\n",
              "      <th>1</th>\n",
              "      <th>2</th>\n",
              "      <th>3</th>\n",
              "      <th>4</th>\n",
              "    </tr>\n",
              "  </thead>\n",
              "  <tbody>\n",
              "    <tr>\n",
              "      <th>0</th>\n",
              "      <td>55</td>\n",
              "      <td>36</td>\n",
              "      <td>51</td>\n",
              "      <td>36</td>\n",
              "      <td>75</td>\n",
              "    </tr>\n",
              "    <tr>\n",
              "      <th>1</th>\n",
              "      <td>45</td>\n",
              "      <td>17</td>\n",
              "      <td>32</td>\n",
              "      <td>66</td>\n",
              "      <td>76</td>\n",
              "    </tr>\n",
              "    <tr>\n",
              "      <th>2</th>\n",
              "      <td>85</td>\n",
              "      <td>88</td>\n",
              "      <td>48</td>\n",
              "      <td>59</td>\n",
              "      <td>71</td>\n",
              "    </tr>\n",
              "    <tr>\n",
              "      <th>3</th>\n",
              "      <td>14</td>\n",
              "      <td>86</td>\n",
              "      <td>93</td>\n",
              "      <td>42</td>\n",
              "      <td>81</td>\n",
              "    </tr>\n",
              "    <tr>\n",
              "      <th>4</th>\n",
              "      <td>68</td>\n",
              "      <td>12</td>\n",
              "      <td>93</td>\n",
              "      <td>65</td>\n",
              "      <td>13</td>\n",
              "    </tr>\n",
              "    <tr>\n",
              "      <th>5</th>\n",
              "      <td>92</td>\n",
              "      <td>72</td>\n",
              "      <td>16</td>\n",
              "      <td>27</td>\n",
              "      <td>16</td>\n",
              "    </tr>\n",
              "    <tr>\n",
              "      <th>6</th>\n",
              "      <td>30</td>\n",
              "      <td>56</td>\n",
              "      <td>7</td>\n",
              "      <td>44</td>\n",
              "      <td>7</td>\n",
              "    </tr>\n",
              "    <tr>\n",
              "      <th>7</th>\n",
              "      <td>67</td>\n",
              "      <td>23</td>\n",
              "      <td>64</td>\n",
              "      <td>28</td>\n",
              "      <td>27</td>\n",
              "    </tr>\n",
              "    <tr>\n",
              "      <th>8</th>\n",
              "      <td>43</td>\n",
              "      <td>94</td>\n",
              "      <td>65</td>\n",
              "      <td>72</td>\n",
              "      <td>66</td>\n",
              "    </tr>\n",
              "    <tr>\n",
              "      <th>9</th>\n",
              "      <td>35</td>\n",
              "      <td>52</td>\n",
              "      <td>70</td>\n",
              "      <td>41</td>\n",
              "      <td>72</td>\n",
              "    </tr>\n",
              "  </tbody>\n",
              "</table>\n",
              "</div>"
            ],
            "text/plain": [
              "    0   1   2   3   4\n",
              "0  55  36  51  36  75\n",
              "1  45  17  32  66  76\n",
              "2  85  88  48  59  71\n",
              "3  14  86  93  42  81\n",
              "4  68  12  93  65  13\n",
              "5  92  72  16  27  16\n",
              "6  30  56   7  44   7\n",
              "7  67  23  64  28  27\n",
              "8  43  94  65  72  66\n",
              "9  35  52  70  41  72"
            ]
          },
          "metadata": {
            "tags": []
          },
          "execution_count": 36
        }
      ]
    },
    {
      "cell_type": "code",
      "metadata": {
        "colab": {
          "base_uri": "https://localhost:8080/"
        },
        "id": "4YxkizKaDZwV",
        "outputId": "1d53250e-829c-4278-89a2-8cb1be80ccb1"
      },
      "source": [
        "matrix = dataframe_to_matrix(df)\r\n",
        "matrix"
      ],
      "execution_count": 38,
      "outputs": [
        {
          "output_type": "execute_result",
          "data": {
            "text/plain": [
              "array([[55, 36, 51, 36, 75],\n",
              "       [45, 17, 32, 66, 76],\n",
              "       [85, 88, 48, 59, 71],\n",
              "       [14, 86, 93, 42, 81],\n",
              "       [68, 12, 93, 65, 13],\n",
              "       [92, 72, 16, 27, 16],\n",
              "       [30, 56,  7, 44,  7],\n",
              "       [67, 23, 64, 28, 27],\n",
              "       [43, 94, 65, 72, 66],\n",
              "       [35, 52, 70, 41, 72]])"
            ]
          },
          "metadata": {
            "tags": []
          },
          "execution_count": 38
        }
      ]
    },
    {
      "cell_type": "code",
      "metadata": {
        "colab": {
          "base_uri": "https://localhost:8080/"
        },
        "id": "HvUZ7MVeBE0I",
        "outputId": "c600ebb6-ab9d-4a69-aff8-3070905a1052"
      },
      "source": [
        "covariance_matrix = covariance_matrix(matrix)\r\n",
        "covariance_matrix"
      ],
      "execution_count": 49,
      "outputs": [
        {
          "output_type": "execute_result",
          "data": {
            "text/plain": [
              "array([[ 611.82222222,  -74.48888889, -179.62222222,  -49.77777778,\n",
              "        -274.06666667],\n",
              "       [ -74.48888889,  947.6       ,  -45.15555556,   25.11111111,\n",
              "         273.4       ],\n",
              "       [-179.62222222,  -45.15555556,  855.65555556,  104.55555556,\n",
              "         289.37777778],\n",
              "       [ -49.77777778,   25.11111111,  104.55555556,  266.22222222,\n",
              "         128.88888889],\n",
              "       [-274.06666667,  273.4       ,  289.37777778,  128.88888889,\n",
              "         927.15555556]])"
            ]
          },
          "metadata": {
            "tags": []
          },
          "execution_count": 49
        }
      ]
    },
    {
      "cell_type": "code",
      "metadata": {
        "colab": {
          "base_uri": "https://localhost:8080/",
          "height": 194
        },
        "id": "au3VPFmkE1M0",
        "outputId": "b525c564-f064-45e5-9e88-f23dbcc438c7"
      },
      "source": [
        "covariance_matrix_df = covariance_matrix_to_df(covariance_matrix)\r\n",
        "covariance_matrix_df"
      ],
      "execution_count": 55,
      "outputs": [
        {
          "output_type": "execute_result",
          "data": {
            "text/html": [
              "<div>\n",
              "<style scoped>\n",
              "    .dataframe tbody tr th:only-of-type {\n",
              "        vertical-align: middle;\n",
              "    }\n",
              "\n",
              "    .dataframe tbody tr th {\n",
              "        vertical-align: top;\n",
              "    }\n",
              "\n",
              "    .dataframe thead th {\n",
              "        text-align: right;\n",
              "    }\n",
              "</style>\n",
              "<table border=\"1\" class=\"dataframe\">\n",
              "  <thead>\n",
              "    <tr style=\"text-align: right;\">\n",
              "      <th></th>\n",
              "      <th>0</th>\n",
              "      <th>1</th>\n",
              "      <th>2</th>\n",
              "      <th>3</th>\n",
              "      <th>4</th>\n",
              "    </tr>\n",
              "  </thead>\n",
              "  <tbody>\n",
              "    <tr>\n",
              "      <th>0</th>\n",
              "      <td>611.822222</td>\n",
              "      <td>-74.488889</td>\n",
              "      <td>-179.622222</td>\n",
              "      <td>-49.777778</td>\n",
              "      <td>-274.066667</td>\n",
              "    </tr>\n",
              "    <tr>\n",
              "      <th>1</th>\n",
              "      <td>-74.488889</td>\n",
              "      <td>947.600000</td>\n",
              "      <td>-45.155556</td>\n",
              "      <td>25.111111</td>\n",
              "      <td>273.400000</td>\n",
              "    </tr>\n",
              "    <tr>\n",
              "      <th>2</th>\n",
              "      <td>-179.622222</td>\n",
              "      <td>-45.155556</td>\n",
              "      <td>855.655556</td>\n",
              "      <td>104.555556</td>\n",
              "      <td>289.377778</td>\n",
              "    </tr>\n",
              "    <tr>\n",
              "      <th>3</th>\n",
              "      <td>-49.777778</td>\n",
              "      <td>25.111111</td>\n",
              "      <td>104.555556</td>\n",
              "      <td>266.222222</td>\n",
              "      <td>128.888889</td>\n",
              "    </tr>\n",
              "    <tr>\n",
              "      <th>4</th>\n",
              "      <td>-274.066667</td>\n",
              "      <td>273.400000</td>\n",
              "      <td>289.377778</td>\n",
              "      <td>128.888889</td>\n",
              "      <td>927.155556</td>\n",
              "    </tr>\n",
              "  </tbody>\n",
              "</table>\n",
              "</div>"
            ],
            "text/plain": [
              "            0           1           2           3           4\n",
              "0  611.822222  -74.488889 -179.622222  -49.777778 -274.066667\n",
              "1  -74.488889  947.600000  -45.155556   25.111111  273.400000\n",
              "2 -179.622222  -45.155556  855.655556  104.555556  289.377778\n",
              "3  -49.777778   25.111111  104.555556  266.222222  128.888889\n",
              "4 -274.066667  273.400000  289.377778  128.888889  927.155556"
            ]
          },
          "metadata": {
            "tags": []
          },
          "execution_count": 55
        }
      ]
    },
    {
      "cell_type": "code",
      "metadata": {
        "id": "hl8nXKjWFp3G"
      },
      "source": [
        "df_to_csv(covariance_matrix_df, 'Covariance_matrix.csv')"
      ],
      "execution_count": 57,
      "outputs": []
    }
  ]
}
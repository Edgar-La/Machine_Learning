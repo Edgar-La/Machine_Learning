{
  "nbformat": 4,
  "nbformat_minor": 0,
  "metadata": {
    "colab": {
      "name": "MEDC.ipynb",
      "provenance": [],
      "toc_visible": true,
      "authorship_tag": "ABX9TyPWzIJrRiZqbzvjQkS1oEIP",
      "include_colab_link": true
    },
    "kernelspec": {
      "name": "python3",
      "display_name": "Python 3"
    }
  },
  "cells": [
    {
      "cell_type": "markdown",
      "metadata": {
        "id": "view-in-github",
        "colab_type": "text"
      },
      "source": [
        "<a href=\"https://colab.research.google.com/github/Edgar-La/Machine_Learning/blob/main/Minimum_Euclidean_distance_classifier/MEDC.ipynb\" target=\"_parent\"><img src=\"https://colab.research.google.com/assets/colab-badge.svg\" alt=\"Open In Colab\"/></a>"
      ]
    },
    {
      "cell_type": "markdown",
      "metadata": {
        "id": "sU3QcQVGRm-p"
      },
      "source": [
        "  \r\n",
        "# Edgar Lara Arellano\r\n",
        "# Clasificador por mínima distancia"
      ]
    },
    {
      "cell_type": "code",
      "metadata": {
        "id": "O6f_OU1ZRe6O"
      },
      "source": [
        "#Seccion para importar modulos\r\n",
        "from sklearn.datasets import make_blobs\r\n",
        "import numpy as np\r\n",
        "import matplotlib.pyplot as plt\r\n",
        "from statistics import mean"
      ],
      "execution_count": 240,
      "outputs": []
    },
    {
      "cell_type": "markdown",
      "metadata": {
        "id": "bxn7BFF9Tsdb"
      },
      "source": [
        "## PASO 1 y 2\r\n",
        "1) Mediante la función make_blobs del paquete sklearn.datasets, genere 200 puntos divididos en 3 clases con desviación estándar de 0.5. Guarde las coordenadas de los 200 puntos en una variable llamada training_data y los indicadores de clase en una variable llamada labels. Grafique un scatter plot usando un color distinto para los puntos en cada una de las 3 clases.\r\n",
        "\r\n",
        "2) Usando la misma función que el paso 1, 3 clases y desviación estándar 0.5, genere 10 puntos nuevos y guárdelos en una variable llamada test_data"
      ]
    },
    {
      "cell_type": "code",
      "metadata": {
        "id": "x4i4azj_Sejp"
      },
      "source": [
        "#Funcion que llama al metodo -make_blobs()-\r\n",
        "def crear_puntos_1(n_MUESTRAS, k_CENTROS, std_dev):\r\n",
        "\ttraining_data , labels = make_blobs(n_samples=n_MUESTRAS, centers=k_CENTROS, cluster_std = std_dev, random_state=2)\r\n",
        "\treturn training_data, labels"
      ],
      "execution_count": 47,
      "outputs": []
    },
    {
      "cell_type": "markdown",
      "metadata": {
        "id": "ol0ZniLpVTLv"
      },
      "source": [
        "## Paso 3\r\n",
        "Siga el pseudocódigo descrito en las diapositivas adjuntas y calcule los vectores promedio para cada una de las 3 clases. Grafique los vectores promedio sobre el scatter plot del paso anterior, pinte estos vectores de un color distinto al de las 3 clases y aumente el tamaño de estos puntos para que se distingan del resto. Puede usar un marcador o símbolo diferente al default."
      ]
    },
    {
      "cell_type": "code",
      "metadata": {
        "id": "iQh4W0WQVU7D"
      },
      "source": [
        "#Vectores promedio para cada una de las 3 clases\r\n",
        "def Vectores_Promedio(training_data, labels):\r\n",
        "  #Hagdo una copia del arreglo de training_data\r\n",
        "  training_data_copy = training_data.copy(); training_data_copy = training_data_copy.tolist()\r\n",
        "\r\n",
        "  #Clasifico los puntos(200) en una lista de 3 elementos(3 clases)\r\n",
        "  arreglo_aux = [[], [], []]\r\n",
        "  for n in range(len(training_data_copy)):\r\n",
        "    if labels[n] == 0:\r\n",
        "      arreglo_aux[0].append(training_data_copy[n])\r\n",
        "    elif labels[n] == 1:\r\n",
        "      arreglo_aux[1].append(training_data_copy[n])\r\n",
        "    elif labels[n] == 2:\r\n",
        "      arreglo_aux[2].append(training_data_copy[n])\r\n",
        "\r\n",
        "  #Uso numpy por facilidad\r\n",
        "  for n in range(len(arreglo_aux)):\r\n",
        "    arreglo_aux[n] = np.array(arreglo_aux[n])\r\n",
        "  \r\n",
        "  #Calculo el promedio de c/una de las clases\r\n",
        "  vectores_promedio = []\r\n",
        "  for n in range(len(arreglo_aux)):\r\n",
        "    vectores_promedio.append(np.mean(arreglo_aux[n],  axis=0))\r\n",
        "  vectores_promedio = np.array(vectores_promedio)\r\n",
        "  #print(vectores_promedio)\r\n",
        "\r\n",
        "  return vectores_promedio\r\n",
        "  "
      ],
      "execution_count": 237,
      "outputs": []
    },
    {
      "cell_type": "markdown",
      "metadata": {
        "id": "1pZ95J42ukqA"
      },
      "source": [
        "## Paso 4\r\n",
        "Calcule la distancia Euclidiana de cada uno de los 10 puntos de prueba a los centros de cada clase y guarde estos valores en una matriz de numpy o un dataframe de pandas llamado distance_matrix"
      ]
    },
    {
      "cell_type": "code",
      "metadata": {
        "id": "czAekf7hul0-"
      },
      "source": [
        "def distancia_euclidiana(test_data, vectores_promedio):\r\n",
        "  distance_matrix = []\r\n",
        "  for n in range(len(test_data)):\r\n",
        "    aux = []\r\n",
        "    for i in range(len(vectores_promedio)):\r\n",
        "      aux.append(np.linalg.norm(test_data[n] - vectores_promedio[i]))\r\n",
        "    distance_matrix.append(aux)\r\n",
        "  distance_matrix = np.array(distance_matrix)\r\n",
        "  #print(distance_matrix)\r\n",
        "  return distance_matrix\r\n"
      ],
      "execution_count": 257,
      "outputs": []
    },
    {
      "cell_type": "markdown",
      "metadata": {
        "id": "elpZFCsh0QWA"
      },
      "source": [
        "## Paso 5\r\n",
        "Asigne a cada uno de los 10 puntos de prueba la etiqueta de clase correspondiente al centroide con distancia mínima y guarde estas asignaciones (predicted_labels) en una columna extra de la matriz o dataframe."
      ]
    },
    {
      "cell_type": "code",
      "metadata": {
        "id": "2PGwvVWb0FNC"
      },
      "source": [
        ""
      ],
      "execution_count": null,
      "outputs": []
    },
    {
      "cell_type": "code",
      "metadata": {
        "colab": {
          "base_uri": "https://localhost:8080/",
          "height": 265
        },
        "id": "AsIXGgz4S_Fk",
        "outputId": "6acec1e6-dc56-474c-f7cb-cdf3a11fb52c"
      },
      "source": [
        "training_data, labels = crear_puntos(200, 3, 0.5)\r\n",
        "test_data, y = crear_puntos(10, 3, 0.5)\r\n",
        "vectores_promedio = Vectores_Promedio(training_data, labels)\r\n",
        "plt.scatter(training_data[:,0], training_data[:,1], c=labels, s=50, cmap='spring')\r\n",
        "plt.scatter(vectores_promedio[:,0], vectores_promedio[:,1], c='red', s=250, alpha = .8)\r\n",
        "plt.scatter(test_data[:,0], test_data[:,1], c='black', s=100, alpha = .5)\r\n",
        "distance_matrix = distancia_euclidiana(test_data, vectores_promedio)"
      ],
      "execution_count": 258,
      "outputs": [
        {
          "output_type": "display_data",
          "data": {
            "image/png": "[encoded data removed]",
            "text/plain": [
              "<Figure size 432x288 with 1 Axes>"
            ]
          },
          "metadata": {
            "tags": [],
            "needs_background": "light"
          }
        }
      ]
    },
    {
      "cell_type": "code",
      "metadata": {
        "id": "_KA93Jyjth-m"
      },
      "source": [
        ""
      ],
      "execution_count": null,
      "outputs": []
    }
  ]
}
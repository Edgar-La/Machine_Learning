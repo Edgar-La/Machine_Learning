{
  "nbformat": 4,
  "nbformat_minor": 0,
  "metadata": {
    "colab": {
      "name": "MEDC.ipynb",
      "provenance": [],
      "toc_visible": true,
      "authorship_tag": "ABX9TyMShRGUhHwaC9ygJGCwcfOT",
      "include_colab_link": true
    },
    "kernelspec": {
      "name": "python3",
      "display_name": "Python 3"
    }
  },
  "cells": [
    {
      "cell_type": "markdown",
      "metadata": {
        "id": "view-in-github",
        "colab_type": "text"
      },
      "source": [
        "<a href=\"https://colab.research.google.com/github/Edgar-La/Machine_Learning/blob/main/Minimum_Euclidean_distance_classifier/MEDC.ipynb\" target=\"_parent\"><img src=\"https://colab.research.google.com/assets/colab-badge.svg\" alt=\"Open In Colab\"/></a>"
      ]
    },
    {
      "cell_type": "markdown",
      "metadata": {
        "id": "sU3QcQVGRm-p"
      },
      "source": [
        "  \r\n",
        "# Edgar Lara Arellano\r\n",
        "# Clasificador por mínima distancia"
      ]
    },
    {
      "cell_type": "code",
      "metadata": {
        "id": "O6f_OU1ZRe6O"
      },
      "source": [
        "#Seccion para importar modulos\r\n",
        "from sklearn.datasets import make_blobs\r\n",
        "import numpy as np\r\n",
        "import matplotlib.pyplot as plt\r\n",
        "from statistics import mean"
      ],
      "execution_count": 240,
      "outputs": []
    },
    {
      "cell_type": "markdown",
      "metadata": {
        "id": "bxn7BFF9Tsdb"
      },
      "source": [
        "## PASO 1 y 2\r\n",
        "1) Mediante la función make_blobs del paquete sklearn.datasets, genere 200 puntos divididos en 3 clases con desviación estándar de 0.5. Guarde las coordenadas de los 200 puntos en una variable llamada training_data y los indicadores de clase en una variable llamada labels. Grafique un scatter plot usando un color distinto para los puntos en cada una de las 3 clases.\r\n",
        "\r\n",
        "2) Usando la misma función que el paso 1, 3 clases y desviación estándar 0.5, genere 10 puntos nuevos y guárdelos en una variable llamada test_data"
      ]
    },
    {
      "cell_type": "code",
      "metadata": {
        "id": "x4i4azj_Sejp"
      },
      "source": [
        "#Funcion que llama al metodo -make_blobs()-\r\n",
        "def crear_puntos_1(n_MUESTRAS, k_CENTROS, std_dev):\r\n",
        "\ttraining_data , labels = make_blobs(n_samples=n_MUESTRAS, centers=k_CENTROS, cluster_std = std_dev, random_state=2)\r\n",
        "\treturn training_data, labels"
      ],
      "execution_count": 47,
      "outputs": []
    },
    {
      "cell_type": "markdown",
      "metadata": {
        "id": "ol0ZniLpVTLv"
      },
      "source": [
        "## Paso 3\r\n",
        "Siga el pseudocódigo descrito en las diapositivas adjuntas y calcule los vectores promedio para cada una de las 3 clases. Grafique los vectores promedio sobre el scatter plot del paso anterior, pinte estos vectores de un color distinto al de las 3 clases y aumente el tamaño de estos puntos para que se distingan del resto. Puede usar un marcador o símbolo diferente al default."
      ]
    },
    {
      "cell_type": "code",
      "metadata": {
        "id": "iQh4W0WQVU7D"
      },
      "source": [
        "#Vectores promedio para cada una de las 3 clases\r\n",
        "def Vectores_Promedio(training_data, labels):\r\n",
        "  #Hagdo una copia del arreglo de training_data\r\n",
        "  training_data_copy = training_data.copy(); training_data_copy = training_data_copy.tolist()\r\n",
        "\r\n",
        "  #Clasifico los puntos(200) en una lista de 3 elementos(3 clases)\r\n",
        "  arreglo_aux = [[], [], []]\r\n",
        "  for n in range(len(training_data_copy)):\r\n",
        "    if labels[n] == 0:\r\n",
        "      arreglo_aux[0].append(training_data_copy[n])\r\n",
        "    elif labels[n] == 1:\r\n",
        "      arreglo_aux[1].append(training_data_copy[n])\r\n",
        "    elif labels[n] == 2:\r\n",
        "      arreglo_aux[2].append(training_data_copy[n])\r\n",
        "\r\n",
        "  #Uso numpy por facilidad\r\n",
        "  for n in range(len(arreglo_aux)):\r\n",
        "    arreglo_aux[n] = np.array(arreglo_aux[n])\r\n",
        "  \r\n",
        "  #Calculo el promedio de c/una de las clases\r\n",
        "  vectores_promedio = []\r\n",
        "  for n in range(len(arreglo_aux)):\r\n",
        "    vectores_promedio.append(np.mean(arreglo_aux[n],  axis=0))\r\n",
        "  vectores_promedio = np.array(vectores_promedio)\r\n",
        "  #print(vectores_promedio)\r\n",
        "\r\n",
        "  return vectores_promedio\r\n",
        "  "
      ],
      "execution_count": 237,
      "outputs": []
    },
    {
      "cell_type": "markdown",
      "metadata": {
        "id": "1pZ95J42ukqA"
      },
      "source": [
        "## Paso 4\r\n",
        "Calcule la distancia Euclidiana de cada uno de los 10 puntos de prueba a los centros de cada clase y guarde estos valores en una matriz de numpy o un dataframe de pandas llamado distance_matrix"
      ]
    },
    {
      "cell_type": "code",
      "metadata": {
        "id": "czAekf7hul0-"
      },
      "source": [
        "def distancia_euclidiana(test_data, vectores_promedio):\r\n",
        "  distance_matrix = []\r\n",
        "  for n in range(len(test_data)):\r\n",
        "    aux = []\r\n",
        "    for i in range(len(vectores_promedio)):\r\n",
        "      aux.append(np.linalg.norm(test_data[n] - vectores_promedio[i]))\r\n",
        "    distance_matrix.append(aux)\r\n",
        "  distance_matrix = np.array(distance_matrix)\r\n",
        "  #print(distance_matrix)\r\n",
        "  return distance_matrix\r\n"
      ],
      "execution_count": 257,
      "outputs": []
    },
    {
      "cell_type": "markdown",
      "metadata": {
        "id": "elpZFCsh0QWA"
      },
      "source": [
        "## Paso 5\r\n",
        "Asigne a cada uno de los 10 puntos de prueba la etiqueta de clase correspondiente al centroide con distancia mínima y guarde estas asignaciones (predicted_labels) en una columna extra de la matriz o dataframe."
      ]
    },
    {
      "cell_type": "code",
      "metadata": {
        "id": "2PGwvVWb0FNC"
      },
      "source": [
        "def asignar_membresia(matrix, test_data):\r\n",
        "  #distance_matrix[n] = matrix[n].copy()\r\n",
        "  #distance_matrix[n] = distance_matrix[n].tolist()\r\n",
        "  predicted_labels = []\r\n",
        "  for n in range(len(matrix)):\r\n",
        "    minimum = min(distance_matrix[n])\r\n",
        "    contador_membresia = 0\r\n",
        "    for i in range(len(distance_matrix[n])):\r\n",
        "      if minimum == distance_matrix[n][i]:\r\n",
        "        predicted_labels.append(contador_membresia)\r\n",
        "      else:\r\n",
        "        contador_membresia += 1\r\n",
        "\r\n",
        "  predicted_labels = np.array(predicted_labels)\r\n",
        "  #print(predicted_labels)\r\n",
        "\r\n",
        "  aux = []\r\n",
        "  for n in range(len(predicted_labels)):\r\n",
        "    aux.append([predicted_labels[n]])\r\n",
        "  aux = np.array(aux)\r\n",
        "  #distance_matrix = np.append(distance_matrix, predicted_labels, axis=1)\r\n",
        "  extended_distance_matrix = np.append(distance_matrix, aux, axis=1)\r\n",
        "\r\n",
        "  #print(new)\r\n",
        "  return predicted_labels, extended_distance_matrix"
      ],
      "execution_count": 375,
      "outputs": []
    },
    {
      "cell_type": "markdown",
      "metadata": {
        "id": "eQEDNWvoSski"
      },
      "source": [
        "## Paso 6\r\n",
        "Compare los valores de las variables labels contra predicted_labels y cuente el número de aciertos y errores."
      ]
    },
    {
      "cell_type": "code",
      "metadata": {
        "id": "VbMd1MsgSsGX"
      },
      "source": [
        "def comparar_labels(labels, predicted_labels):\r\n",
        "  aciertos = 0; errores = 0;\r\n",
        "  for n in range(len(predicted_labels)):\r\n",
        "    if labels[n] == predicted_labels[n]:\r\n",
        "      aciertos += 1\r\n",
        "    else:\r\n",
        "      errores+=1\r\n",
        "  print('labesl = ', labels)\r\n",
        "  print('predicted_labels = ', predicted_labels)\r\n",
        "  print('aciertos: ', aciertos)\r\n",
        "  print('errores: ', errores)\r\n",
        "  return aciertos, errores"
      ],
      "execution_count": 395,
      "outputs": []
    },
    {
      "cell_type": "markdown",
      "metadata": {
        "id": "9jCK7_InW8r0"
      },
      "source": [
        "# Seccion para llamar a las funciones"
      ]
    },
    {
      "cell_type": "code",
      "metadata": {
        "colab": {
          "base_uri": "https://localhost:8080/",
          "height": 283
        },
        "id": "iddCZCAgXPdA",
        "outputId": "c82c34f9-62ae-4991-9ace-38d138351c35"
      },
      "source": [
        "#Paso 1\r\n",
        "training_data, labels = crear_puntos(200, 3, 0.5)\r\n",
        "plt.scatter(training_data[:,0], training_data[:,1], c=labels, s=50, cmap='spring')"
      ],
      "execution_count": 363,
      "outputs": [
        {
          "output_type": "execute_result",
          "data": {
            "text/plain": [
              "<matplotlib.collections.PathCollection at 0x7faa89f24e50>"
            ]
          },
          "metadata": {
            "tags": []
          },
          "execution_count": 363
        },
        {
          "output_type": "display_data",
          "data": {
            "image/png": "[encoded data removed]",
            "text/plain": [
              "<Figure size 432x288 with 1 Axes>"
            ]
          },
          "metadata": {
            "tags": [],
            "needs_background": "light"
          }
        }
      ]
    },
    {
      "cell_type": "code",
      "metadata": {
        "id": "Pa9hZUXAXa0u"
      },
      "source": [
        "#Paso 2\r\n",
        "test_data, y = crear_puntos(10, 3, 0.5)"
      ],
      "execution_count": null,
      "outputs": []
    },
    {
      "cell_type": "code",
      "metadata": {
        "colab": {
          "base_uri": "https://localhost:8080/",
          "height": 283
        },
        "id": "AsIXGgz4S_Fk",
        "outputId": "59ec1397-fb66-42e3-b01a-bb1f8bf432c6"
      },
      "source": [
        "#Paso 3\r\n",
        "vectores_promedio = Vectores_Promedio(training_data, labels)\r\n",
        "plt.scatter(training_data[:,0], training_data[:,1], c=labels, s=50, cmap='spring')\r\n",
        "plt.scatter(vectores_promedio[:,0], vectores_promedio[:,1], c='black', s=250, alpha = .45)"
      ],
      "execution_count": 369,
      "outputs": [
        {
          "output_type": "execute_result",
          "data": {
            "text/plain": [
              "<matplotlib.collections.PathCollection at 0x7faa89c72350>"
            ]
          },
          "metadata": {
            "tags": []
          },
          "execution_count": 369
        },
        {
          "output_type": "display_data",
          "data": {
            "image/png": "[encoded data removed]",
            "text/plain": [
              "<Figure size 432x288 with 1 Axes>"
            ]
          },
          "metadata": {
            "tags": [],
            "needs_background": "light"
          }
        }
      ]
    },
    {
      "cell_type": "code",
      "metadata": {
        "colab": {
          "base_uri": "https://localhost:8080/"
        },
        "id": "2yNjEm3OYjZA",
        "outputId": "ff6c98c0-4b99-4bd6-fbac-9d326b7fe0b1"
      },
      "source": [
        "#Paso 4\r\n",
        "distance_matrix = distancia_euclidiana(test_data, vectores_promedio)\r\n",
        "print(distance_matrix)"
      ],
      "execution_count": 371,
      "outputs": [
        {
          "output_type": "stream",
          "text": [
            "[[ 8.07782252 14.34979405  0.61547591]\n",
            " [ 0.7222294   6.21530641  8.18845182]\n",
            " [ 0.25264229  6.27663054  7.91734627]\n",
            " [ 0.19346804  6.21713008  7.99004505]\n",
            " [ 7.30926745 13.65692045  0.63461228]\n",
            " [ 8.58984126 14.90482543  0.74434556]\n",
            " [ 0.32302098  6.21796051  7.97113657]\n",
            " [ 7.16901007  0.93475185 14.9132954 ]\n",
            " [ 5.61013124  0.84901415 13.44409729]\n",
            " [ 6.57290177  0.31267644 14.35020016]]\n"
          ],
          "name": "stdout"
        }
      ]
    },
    {
      "cell_type": "code",
      "metadata": {
        "colab": {
          "base_uri": "https://localhost:8080/"
        },
        "id": "_KA93Jyjth-m",
        "outputId": "fa22b380-4f61-464e-926f-349365af917b"
      },
      "source": [
        "#Paso 5\r\n",
        "predicted_labels, extended_distance_matrix = asignar_membresia(distance_matrix, test_data)\r\n",
        "print('predicted_labels = ', predicted_labels)\r\n",
        "print('Extended matrix = \\n')\r\n",
        "print(extended_distance_matrix)"
      ],
      "execution_count": 377,
      "outputs": [
        {
          "output_type": "stream",
          "text": [
            "predicted_labels =  [2 0 0 0 2 2 0 1 1 1]\n",
            "Extended matrix = \n",
            "\n",
            "[[ 8.07782252 14.34979405  0.61547591  2.        ]\n",
            " [ 0.7222294   6.21530641  8.18845182  0.        ]\n",
            " [ 0.25264229  6.27663054  7.91734627  0.        ]\n",
            " [ 0.19346804  6.21713008  7.99004505  0.        ]\n",
            " [ 7.30926745 13.65692045  0.63461228  2.        ]\n",
            " [ 8.58984126 14.90482543  0.74434556  2.        ]\n",
            " [ 0.32302098  6.21796051  7.97113657  0.        ]\n",
            " [ 7.16901007  0.93475185 14.9132954   1.        ]\n",
            " [ 5.61013124  0.84901415 13.44409729  1.        ]\n",
            " [ 6.57290177  0.31267644 14.35020016  1.        ]]\n"
          ],
          "name": "stdout"
        }
      ]
    },
    {
      "cell_type": "code",
      "metadata": {
        "colab": {
          "base_uri": "https://localhost:8080/"
        },
        "id": "cZoF5h3faKbR",
        "outputId": "c13b2cfe-0c2c-413e-a93c-cf433436a4f7"
      },
      "source": [
        "#Paso 6\r\n",
        "aciertos, errores = comparar_labels(y, predicted_labels)"
      ],
      "execution_count": 396,
      "outputs": [
        {
          "output_type": "stream",
          "text": [
            "labesl =  [2 0 0 0 2 2 0 1 1 1]\n",
            "predicted_labels =  [2 0 0 0 2 2 0 1 1 1]\n",
            "aciertos:  10\n",
            "errores:  0\n"
          ],
          "name": "stdout"
        }
      ]
    },
    {
      "cell_type": "code",
      "metadata": {
        "id": "is5-RKxdYL9w"
      },
      "source": [
        "plt.scatter(test_data[:,0], test_data[:,1], c='black', s=100, alpha = .5)"
      ],
      "execution_count": null,
      "outputs": []
    },
    {
      "cell_type": "markdown",
      "metadata": {
        "id": "p813cWPjah-N"
      },
      "source": [
        "# Paso extra\r\n",
        "Graficar los 10 puntos añadidos"
      ]
    },
    {
      "cell_type": "code",
      "metadata": {
        "colab": {
          "base_uri": "https://localhost:8080/",
          "height": 299
        },
        "id": "HX3hPGSEa5eQ",
        "outputId": "7a127eef-88d3-4957-ca18-6885d118fef2"
      },
      "source": [
        "plt.scatter(training_data[:,0], training_data[:,1], c=labels, s=50, cmap='spring', label = 'training_data')\r\n",
        "plt.scatter(vectores_promedio[:,0], vectores_promedio[:,1], c='black', s=250, alpha = .45, label = 'vectores_promedio')\r\n",
        "plt.scatter(test_data[:,0], test_data[:,1], c='green', s=100, alpha = .5, label = 'test_data')\r\n",
        "plt.legend()\r\n",
        "plt.title('Puntos graficados pero aun SIN clasificar')"
      ],
      "execution_count": 387,
      "outputs": [
        {
          "output_type": "execute_result",
          "data": {
            "text/plain": [
              "Text(0.5, 1.0, 'Puntos graficados pero aun SIN clasificar')"
            ]
          },
          "metadata": {
            "tags": []
          },
          "execution_count": 387
        },
        {
          "output_type": "display_data",
          "data": {
            "image/png": "[encoded data removed]",
            "text/plain": [
              "<Figure size 432x288 with 1 Axes>"
            ]
          },
          "metadata": {
            "tags": [],
            "needs_background": "light"
          }
        }
      ]
    },
    {
      "cell_type": "code",
      "metadata": {
        "colab": {
          "base_uri": "https://localhost:8080/",
          "height": 299
        },
        "id": "nkeGGlNHbcfu",
        "outputId": "d8e74f51-945d-4ae9-944a-a43c3d1e382b"
      },
      "source": [
        "plt.scatter(training_data[:,0], training_data[:,1], c=labels, s=50, cmap='spring', label = 'training_data')\r\n",
        "plt.scatter(test_data[:,0], test_data[:,1], c=predicted_labels, s=50,  cmap='spring', label = 'test_data - predicted labels')\r\n",
        "plt.scatter(vectores_promedio[:,0], vectores_promedio[:,1], c='black', s=250, alpha = .45, label = 'vectores_promedio')\r\n",
        "plt.legend()\r\n",
        "plt.title('Puntos clasificados. Aciertos: ' + str(aciertos) + '/' + str(aciertos+errores))"
      ],
      "execution_count": 397,
      "outputs": [
        {
          "output_type": "execute_result",
          "data": {
            "text/plain": [
              "Text(0.5, 1.0, 'Puntos clasificados. Aciertos: 10/10')"
            ]
          },
          "metadata": {
            "tags": []
          },
          "execution_count": 397
        },
        {
          "output_type": "display_data",
          "data": {
            "image/png": "[encoded data removed]",
            "text/plain": [
              "<Figure size 432x288 with 1 Axes>"
            ]
          },
          "metadata": {
            "tags": [],
            "needs_background": "light"
          }
        }
      ]
    }
  ]
}
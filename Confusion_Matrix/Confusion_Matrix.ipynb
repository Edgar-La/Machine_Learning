{
  "nbformat": 4,
  "nbformat_minor": 0,
  "metadata": {
    "colab": {
      "name": "Confusion_Matrix.ipynb",
      "provenance": [],
      "authorship_tag": "ABX9TyP4jpRK2Fgz0IvzRHxwTH5u",
      "include_colab_link": true
    },
    "kernelspec": {
      "name": "python3",
      "display_name": "Python 3"
    }
  },
  "cells": [
    {
      "cell_type": "markdown",
      "metadata": {
        "id": "view-in-github",
        "colab_type": "text"
      },
      "source": [
        "<a href=\"https://colab.research.google.com/github/Edgar-La/Machine_Learning/blob/main/Confusion_Matrix/Confusion_Matrix.ipynb\" target=\"_parent\"><img src=\"https://colab.research.google.com/assets/colab-badge.svg\" alt=\"Open In Colab\"/></a>"
      ]
    },
    {
      "cell_type": "markdown",
      "metadata": {
        "id": "qit8U1z4pQg3"
      },
      "source": [
        "__Author:__ Edgar Lara\r\n",
        "\r\n",
        "__Date:__ March 6, 2021"
      ]
    },
    {
      "cell_type": "markdown",
      "metadata": {
        "id": "WVE5iNpllIOD"
      },
      "source": [
        "# __Implementing confusion matrix__"
      ]
    },
    {
      "cell_type": "code",
      "metadata": {
        "id": "clbnOILyebS0"
      },
      "source": [
        "import sklearn.metrics as skl\r\n",
        "import numpy as np\r\n",
        "import matplotlib.pyplot as plt"
      ],
      "execution_count": 21,
      "outputs": []
    },
    {
      "cell_type": "markdown",
      "metadata": {
        "id": "ZwsWlSGToF4I"
      },
      "source": [
        "The _labels_2_ and _predicted_labels_ vectors were obtained [here](https://github.com/Edgar-La/Machine_Learning/blob/main/Minimum_Euclidean_distance_classifier/MEDC.ipynb).\r\n",
        "Where I've used the \"Minimal Euclidean Distance Classifier\", so in this code I'm going to verify how good it was using a __Confusion Matrix__.\r\n",
        "\r\n",
        "\r\n"
      ]
    },
    {
      "cell_type": "code",
      "metadata": {
        "id": "upymlfwXefpO"
      },
      "source": [
        "labels_2 = np.array([1, 0, 1, 2, 0, 0, 1, 2, 2, 0])\r\n",
        "predicted_labels = np.array([1, 0, 1, 2, 0, 0, 1, 2, 2, 0])"
      ],
      "execution_count": 6,
      "outputs": []
    },
    {
      "cell_type": "code",
      "metadata": {
        "colab": {
          "base_uri": "https://localhost:8080/"
        },
        "id": "bcLpCs2LfC7E",
        "outputId": "2c0d7c70-4ebe-4fab-d2a1-f711871a24fc"
      },
      "source": [
        "#Creating the confusion matrix\r\n",
        "confusion_matrix = skl.confusion_matrix(labels_2, predicted_labels)\r\n",
        "confusion_matrix"
      ],
      "execution_count": 7,
      "outputs": [
        {
          "output_type": "execute_result",
          "data": {
            "text/plain": [
              "array([[4, 0, 0],\n",
              "       [0, 3, 0],\n",
              "       [0, 0, 3]])"
            ]
          },
          "metadata": {
            "tags": []
          },
          "execution_count": 7
        }
      ]
    },
    {
      "cell_type": "code",
      "metadata": {
        "colab": {
          "base_uri": "https://localhost:8080/"
        },
        "id": "AiS6oe7fffMk",
        "outputId": "9d1cb16f-709b-4550-c825-cce299cc4b02"
      },
      "source": [
        "#Calculating ACC\r\n",
        "diag = 0\r\n",
        "for i in range(len(confusion_matrix)):\r\n",
        "  diag += confusion_matrix[i][i]\r\n",
        "ACC = diag/len(labels_2)\r\n",
        "ACC"
      ],
      "execution_count": 11,
      "outputs": [
        {
          "output_type": "execute_result",
          "data": {
            "text/plain": [
              "1.0"
            ]
          },
          "metadata": {
            "tags": []
          },
          "execution_count": 11
        }
      ]
    },
    {
      "cell_type": "code",
      "metadata": {
        "colab": {
          "base_uri": "https://localhost:8080/"
        },
        "id": "ZDm9EMUbiT7q",
        "outputId": "f066be3b-af79-4f35-c691-8095071881a5"
      },
      "source": [
        "#Precision\r\n",
        "precision = skl.precision_score(labels_2, predicted_labels, average='micro')\r\n",
        "precision"
      ],
      "execution_count": 20,
      "outputs": [
        {
          "output_type": "execute_result",
          "data": {
            "text/plain": [
              "1.0"
            ]
          },
          "metadata": {
            "tags": []
          },
          "execution_count": 20
        }
      ]
    },
    {
      "cell_type": "code",
      "metadata": {
        "colab": {
          "base_uri": "https://localhost:8080/"
        },
        "id": "ancKLEfkiXRo",
        "outputId": "aacb792c-32fa-4edf-8da1-a53c54a6b154"
      },
      "source": [
        "#Recall\r\n",
        "recall = skl.recall_score(labels_2, predicted_labels, average='micro')\r\n",
        "recall"
      ],
      "execution_count": 19,
      "outputs": [
        {
          "output_type": "execute_result",
          "data": {
            "text/plain": [
              "1.0"
            ]
          },
          "metadata": {
            "tags": []
          },
          "execution_count": 19
        }
      ]
    },
    {
      "cell_type": "code",
      "metadata": {
        "colab": {
          "base_uri": "https://localhost:8080/"
        },
        "id": "JxexcFMMjV4w",
        "outputId": "dc2749be-316c-4079-9e19-ed574a838472"
      },
      "source": [
        "f1 = skl.f1_score(labels_2, predicted_labels,  average='micro')\r\n",
        "f1"
      ],
      "execution_count": 18,
      "outputs": [
        {
          "output_type": "execute_result",
          "data": {
            "text/plain": [
              "1.0"
            ]
          },
          "metadata": {
            "tags": []
          },
          "execution_count": 18
        }
      ]
    },
    {
      "cell_type": "code",
      "metadata": {
        "id": "MAl6zVH4kNcV"
      },
      "source": [
        ""
      ],
      "execution_count": null,
      "outputs": []
    },
    {
      "cell_type": "code",
      "metadata": {
        "colab": {
          "base_uri": "https://localhost:8080/",
          "height": 292
        },
        "id": "cjmEJ_gmkYqw",
        "outputId": "5d1f49e4-cba2-4f99-f48b-a515ff341664"
      },
      "source": [
        "#Image representation of the confusion matrix\r\n",
        "plt.matshow(confusion_matrix, cmap=plt.cm.gray)"
      ],
      "execution_count": 25,
      "outputs": [
        {
          "output_type": "execute_result",
          "data": {
            "text/plain": [
              "<matplotlib.image.AxesImage at 0x7f6308eaa490>"
            ]
          },
          "metadata": {
            "tags": []
          },
          "execution_count": 25
        },
        {
          "output_type": "display_data",
          "data": {
            "image/png": "[encoded data removed]",
            "text/plain": [
              "<Figure size 288x288 with 1 Axes>"
            ]
          },
          "metadata": {
            "tags": [],
            "needs_background": "light"
          }
        }
      ]
    }
  ]
}
{
  "nbformat": 4,
  "nbformat_minor": 0,
  "metadata": {
    "colab": {
      "name": "Confusion_Matrix.ipynb",
      "provenance": [],
      "authorship_tag": "ABX9TyOo7/TtyBQEgS2zz/aZbpaT",
      "include_colab_link": true
    },
    "kernelspec": {
      "name": "python3",
      "display_name": "Python 3"
    }
  },
  "cells": [
    {
      "cell_type": "markdown",
      "metadata": {
        "id": "view-in-github",
        "colab_type": "text"
      },
      "source": [
        "<a href=\"https://colab.research.google.com/github/Edgar-La/Machine_Learning/blob/main/Confusion_Matrix/Confusion_Matrix.ipynb\" target=\"_parent\"><img src=\"https://colab.research.google.com/assets/colab-badge.svg\" alt=\"Open In Colab\"/></a>"
      ]
    },
    {
      "cell_type": "markdown",
      "metadata": {
        "id": "qit8U1z4pQg3"
      },
      "source": [
        "__Author:__ Edgar Lara\n",
        "\n",
        "__Date:__ March 6, 2021"
      ]
    },
    {
      "cell_type": "markdown",
      "metadata": {
        "id": "WVE5iNpllIOD"
      },
      "source": [
        "# __Implementing confusion matrix__"
      ]
    },
    {
      "cell_type": "code",
      "metadata": {
        "id": "clbnOILyebS0"
      },
      "source": [
        "import sklearn.metrics as skl\n",
        "import numpy as np\n",
        "import matplotlib.pyplot as plt\n",
        "import itertools"
      ],
      "execution_count": 40,
      "outputs": []
    },
    {
      "cell_type": "markdown",
      "metadata": {
        "id": "ZwsWlSGToF4I"
      },
      "source": [
        "The _labels_2_ and _predicted_labels_ vectors were obtained [here](https://github.com/Edgar-La/Machine_Learning/blob/main/Minimum_Euclidean_distance_classifier/MEDC.ipynb).\n",
        "Where I've used the \"Minimal Euclidean Distance Classifier\", so in this code I'm going to verify how good it was using a __Confusion Matrix__.\n",
        "\n",
        "\n"
      ]
    },
    {
      "cell_type": "code",
      "metadata": {
        "id": "upymlfwXefpO"
      },
      "source": [
        "labels_2 = np.array([1, 0, 1, 2, 0, 0, 1, 2, 2, 0])\n",
        "predicted_labels = np.array([1, 0, 1, 2, 0, 0, 1, 2, 2, 0])"
      ],
      "execution_count": 3,
      "outputs": []
    },
    {
      "cell_type": "code",
      "metadata": {
        "colab": {
          "base_uri": "https://localhost:8080/"
        },
        "id": "bcLpCs2LfC7E",
        "outputId": "fae0e7c6-decf-44fa-8982-b45e42383c2c"
      },
      "source": [
        "#Creating the confusion matrix\n",
        "confusion_matrix = skl.confusion_matrix(labels_2, predicted_labels)\n",
        "confusion_matrix"
      ],
      "execution_count": 4,
      "outputs": [
        {
          "output_type": "execute_result",
          "data": {
            "text/plain": [
              "array([[4, 0, 0],\n",
              "       [0, 3, 0],\n",
              "       [0, 0, 3]])"
            ]
          },
          "metadata": {
            "tags": []
          },
          "execution_count": 4
        }
      ]
    },
    {
      "cell_type": "code",
      "metadata": {
        "colab": {
          "base_uri": "https://localhost:8080/"
        },
        "id": "AiS6oe7fffMk",
        "outputId": "da230d83-6215-45bb-9596-40e9c7972a59"
      },
      "source": [
        "#Calculating ACC\n",
        "diag = 0\n",
        "for i in range(len(confusion_matrix)):\n",
        "  diag += confusion_matrix[i][i]\n",
        "ACC = diag/len(labels_2)\n",
        "ACC"
      ],
      "execution_count": 5,
      "outputs": [
        {
          "output_type": "execute_result",
          "data": {
            "text/plain": [
              "1.0"
            ]
          },
          "metadata": {
            "tags": []
          },
          "execution_count": 5
        }
      ]
    },
    {
      "cell_type": "code",
      "metadata": {
        "colab": {
          "base_uri": "https://localhost:8080/"
        },
        "id": "ZDm9EMUbiT7q",
        "outputId": "27f09ee6-e5a8-4bec-8912-14a704d9367f"
      },
      "source": [
        "#Precision\n",
        "precision = skl.precision_score(labels_2, predicted_labels, average='micro')\n",
        "precision"
      ],
      "execution_count": 6,
      "outputs": [
        {
          "output_type": "execute_result",
          "data": {
            "text/plain": [
              "1.0"
            ]
          },
          "metadata": {
            "tags": []
          },
          "execution_count": 6
        }
      ]
    },
    {
      "cell_type": "code",
      "metadata": {
        "colab": {
          "base_uri": "https://localhost:8080/"
        },
        "id": "ancKLEfkiXRo",
        "outputId": "1160e637-978c-4fde-eedd-6b4e43ea8b71"
      },
      "source": [
        "#Recall\n",
        "recall = skl.recall_score(labels_2, predicted_labels, average='micro')\n",
        "recall"
      ],
      "execution_count": 7,
      "outputs": [
        {
          "output_type": "execute_result",
          "data": {
            "text/plain": [
              "1.0"
            ]
          },
          "metadata": {
            "tags": []
          },
          "execution_count": 7
        }
      ]
    },
    {
      "cell_type": "code",
      "metadata": {
        "colab": {
          "base_uri": "https://localhost:8080/"
        },
        "id": "JxexcFMMjV4w",
        "outputId": "11a0d784-2011-468b-865d-99633de82bf2"
      },
      "source": [
        "f1 = skl.f1_score(labels_2, predicted_labels,  average='micro')\n",
        "f1"
      ],
      "execution_count": 8,
      "outputs": [
        {
          "output_type": "execute_result",
          "data": {
            "text/plain": [
              "1.0"
            ]
          },
          "metadata": {
            "tags": []
          },
          "execution_count": 8
        }
      ]
    },
    {
      "cell_type": "code",
      "metadata": {
        "colab": {
          "base_uri": "https://localhost:8080/",
          "height": 292
        },
        "id": "cjmEJ_gmkYqw",
        "outputId": "2d3e2bed-cd75-407e-ba8f-1e721e4645ce"
      },
      "source": [
        "#Image representation of the confusion matrix\n",
        "plt.matshow(confusion_matrix, cmap=plt.cm.gray)"
      ],
      "execution_count": 9,
      "outputs": [
        {
          "output_type": "execute_result",
          "data": {
            "text/plain": [
              "<matplotlib.image.AxesImage at 0x7f97df842e50>"
            ]
          },
          "metadata": {
            "tags": []
          },
          "execution_count": 9
        },
        {
          "output_type": "display_data",
          "data": {
            "image/png": "[encoded data removed]",
            "text/plain": [
              "<Figure size 288x288 with 1 Axes>"
            ]
          },
          "metadata": {
            "tags": [],
            "needs_background": "light"
          }
        }
      ]
    },
    {
      "cell_type": "code",
      "metadata": {
        "id": "0GO3oH1fv0TT",
        "outputId": "2e000999-6a3e-4af2-9276-3689ee53d66a",
        "colab": {
          "base_uri": "https://localhost:8080/",
          "height": 295
        }
      },
      "source": [
        "#Help from https://stackoverflow.com/questions/40264763/how-can-i-make-my-confusion-matrix-plot-only-1-decimal-in-python\n",
        "def plot_confusion_matrix(cm, title='Confusion matrix', cmap=plt.cm.Oranges):\n",
        "    plt.imshow(cm, interpolation='nearest', cmap=cmap)\n",
        "    plt.title(title)\n",
        "    #plt.colorbar()\n",
        "    tick_marks = np.arange(cm.shape[1])\n",
        "    plt.xticks(tick_marks)\n",
        "    plt.yticks(tick_marks)\n",
        "\n",
        "    thresh = cm.max() / 2.\n",
        "    for i, j in itertools.product(range(cm.shape[0]), range(cm.shape[1])):\n",
        "        plt.text(j, i, format(cm[i, j], '.1f'),\n",
        "                 horizontalalignment=\"center\",\n",
        "                 color=\"white\" if cm[i, j] > thresh else \"black\")\n",
        "\n",
        "    #plt.tight_layout()\n",
        "    plt.ylabel('True label')\n",
        "    plt.xlabel('Predicted label')\n",
        "plot_confusion_matrix(confusion_matrix)"
      ],
      "execution_count": 41,
      "outputs": [
        {
          "output_type": "display_data",
          "data": {
            "image/png": "[encoded data removed]",
            "text/plain": [
              "<Figure size 432x288 with 1 Axes>"
            ]
          },
          "metadata": {
            "tags": [],
            "needs_background": "light"
          }
        }
      ]
    }
  ]
}
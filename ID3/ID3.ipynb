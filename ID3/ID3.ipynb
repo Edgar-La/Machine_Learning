{
  "nbformat": 4,
  "nbformat_minor": 0,
  "metadata": {
    "colab": {
      "name": "ID3.ipynb",
      "provenance": [],
      "authorship_tag": "ABX9TyOYlw2N1zZADekX7DsqJ9YZ",
      "include_colab_link": true
    },
    "kernelspec": {
      "name": "python3",
      "display_name": "Python 3"
    }
  },
  "cells": [
    {
      "cell_type": "markdown",
      "metadata": {
        "id": "view-in-github",
        "colab_type": "text"
      },
      "source": [
        "<a href=\"https://colab.research.google.com/github/Edgar-La/Machine_Learning/blob/main/ID3/ID3.ipynb\" target=\"_parent\"><img src=\"https://colab.research.google.com/assets/colab-badge.svg\" alt=\"Open In Colab\"/></a>"
      ]
    },
    {
      "cell_type": "markdown",
      "metadata": {
        "id": "IL250y7A5UuP"
      },
      "source": [
        "## Section to call the functions"
      ]
    },
    {
      "cell_type": "code",
      "metadata": {
        "id": "c5QPN32hwXrt"
      },
      "source": [
        "import numpy as np\r\n",
        "import pandas as pd\r\n",
        "import math as mt"
      ],
      "execution_count": 132,
      "outputs": []
    },
    {
      "cell_type": "code",
      "metadata": {
        "id": "H5PFM-ukttSz"
      },
      "source": [
        "#Open the cvs file and save as pandas dataframe\r\n",
        "def open_file(name_file):\r\n",
        "  df = pd.read_csv(name_file)\r\n",
        "  return df"
      ],
      "execution_count": 133,
      "outputs": []
    },
    {
      "cell_type": "code",
      "metadata": {
        "id": "iX6_8QRR9HXL"
      },
      "source": [
        "#Obtaining proportions for editablity\r\n",
        "def Proportions(df):\r\n",
        "  Count_edible = 0; Count_toxic = 0\r\n",
        "  for n in range(len(df)):\r\n",
        "    if df['ediblity'][n] == 'edible':\r\n",
        "      Count_edible += 1\r\n",
        "    elif df['ediblity'][n] == 'toxic':\r\n",
        "      Count_toxic += 1\r\n",
        "  P_edible = Count_edible/len(df)\r\n",
        "  P_toxic = Count_toxic/len(df)\r\n",
        "  return P_edible, P_toxic"
      ],
      "execution_count": 134,
      "outputs": []
    },
    {
      "cell_type": "code",
      "metadata": {
        "id": "fbd7LMPy0pZ9"
      },
      "source": [
        "#Calculating Entropy\r\n",
        "def Entropy(P_edible, P_toxic):\r\n",
        "  Entropy = -P_edible*mt.log(P_edible, 2) - P_toxic*mt.log(P_toxic, 2)\r\n",
        "  return Entropy"
      ],
      "execution_count": 135,
      "outputs": []
    },
    {
      "cell_type": "code",
      "metadata": {
        "id": "aYRvWmlp2TGA"
      },
      "source": [
        "#Calculating Gain coeficients\r\n",
        "def Gain_coeficients(df, P_edible, P_toxic, Entropy, values_A, feature):\r\n",
        "\r\n",
        "  #Obtain coeficients |Sv|/|S|\r\n",
        "  Counts = np.array([0,0,0])\r\n",
        "  for n in range(len(df)):\r\n",
        "    for i in range(len(values_A)):\r\n",
        "      if df[feature][n] == values_A[i]:\r\n",
        "        Counts[i]+=1\r\n",
        "  Proportions = Counts/len(df)\r\n",
        "\r\n",
        "  #print(Proportions)\r\n",
        "  #print(Counts)\r\n",
        "  matrix_aux = []\r\n",
        "  for i in range(len(values_A)):\r\n",
        "    aux_1 = 0; aux_2 = 0   \r\n",
        "    for n in range(len(df)):\r\n",
        "      if df[feature][n] == values_A[i] and df['ediblity'][n] == 'edible':\r\n",
        "        aux_1 += 1\r\n",
        "      elif df[feature][n] == values_A[i] and df['ediblity'][n] == 'toxic':\r\n",
        "        aux_2 += 1\r\n",
        "    matrix_aux.append(np.array([aux_1, aux_2]))\r\n",
        "  #matrix_aux = np.array(matrix_aux)\r\n",
        "  #print(matrix_aux)\r\n",
        "\r\n",
        "  coeficients = [0,0,0]\r\n",
        "  for n in range(len(Counts)):\r\n",
        "    coeficients[n] = matrix_aux[n]/Counts[n]\r\n",
        "  #print(np.array(coeficients))\r\n",
        "\r\n",
        "\r\n",
        "\r\n",
        "  return Proportions, coeficients"
      ],
      "execution_count": 148,
      "outputs": []
    },
    {
      "cell_type": "code",
      "metadata": {
        "id": "p8k-LauUy6ze"
      },
      "source": [
        "#Calculating Entropy\r\n",
        "def Entropy_gain(Proportions, coeficients):\r\n",
        "  Entropy_gain = 0\r\n",
        "  for n in range(len(Proportions)):\r\n",
        "    if coeficients[n][0] == 0:\r\n",
        "      Entropy_gain += Proportions[n]*(- coeficients[n][1]*mt.log(coeficients[n][1], 2))\r\n",
        "    elif coeficients[n][1] == 0:\r\n",
        "      Entropy_gain += Proportions[n]*(-coeficients[n][0]*mt.log(coeficients[n][0], 2))\r\n",
        "    else:\r\n",
        "      Entropy_gain += Proportions[n]*(-coeficients[n][0]*mt.log(coeficients[n][0], 2) - coeficients[n][1]*mt.log(coeficients[n][1], 2))\r\n",
        "  return Entropy_gain"
      ],
      "execution_count": 137,
      "outputs": []
    },
    {
      "cell_type": "code",
      "metadata": {
        "id": "x0zOWSqb8hkz"
      },
      "source": [
        "def best_feature_2(value_1, label_1, value_2, label_2):\r\n",
        "  print('Gain('+label_1+'): ' + str(value_1))\r\n",
        "  print('Gain('+label_2+'): ' + str(value_2))\r\n",
        "  print('\\n')\r\n",
        "  if value_1 > value_2:\r\n",
        "    print('The feature ->' + label_1 + '<- is the best.')\r\n",
        "  elif value_1 < value_2:\r\n",
        "    print('The feature ->' + label_2 + '<- is the best.')\r\n",
        "  elif value_1 == value_2:\r\n",
        "    print('Both features (' +label_1 +', '+label_2 + ') are equally good.')"
      ],
      "execution_count": 159,
      "outputs": []
    },
    {
      "cell_type": "markdown",
      "metadata": {
        "id": "djSU39Rt5OPu"
      },
      "source": [
        "## Section to call the functions"
      ]
    },
    {
      "cell_type": "code",
      "metadata": {
        "colab": {
          "base_uri": "https://localhost:8080/",
          "height": 223
        },
        "id": "swcH4bcwwj_d",
        "outputId": "c3dd8c49-7cdf-490c-d72a-f66344239b4f"
      },
      "source": [
        "df = open_file('Mango.csv')\r\n",
        "df"
      ],
      "execution_count": 138,
      "outputs": [
        {
          "output_type": "execute_result",
          "data": {
            "text/html": [
              "<div>\n",
              "<style scoped>\n",
              "    .dataframe tbody tr th:only-of-type {\n",
              "        vertical-align: middle;\n",
              "    }\n",
              "\n",
              "    .dataframe tbody tr th {\n",
              "        vertical-align: top;\n",
              "    }\n",
              "\n",
              "    .dataframe thead th {\n",
              "        text-align: right;\n",
              "    }\n",
              "</style>\n",
              "<table border=\"1\" class=\"dataframe\">\n",
              "  <thead>\n",
              "    <tr style=\"text-align: right;\">\n",
              "      <th></th>\n",
              "      <th>color</th>\n",
              "      <th>taste</th>\n",
              "      <th>size</th>\n",
              "      <th>ediblity</th>\n",
              "    </tr>\n",
              "  </thead>\n",
              "  <tbody>\n",
              "    <tr>\n",
              "      <th>0</th>\n",
              "      <td>yellow</td>\n",
              "      <td>sweet</td>\n",
              "      <td>medium</td>\n",
              "      <td>edible</td>\n",
              "    </tr>\n",
              "    <tr>\n",
              "      <th>1</th>\n",
              "      <td>red</td>\n",
              "      <td>sweet</td>\n",
              "      <td>small</td>\n",
              "      <td>edible</td>\n",
              "    </tr>\n",
              "    <tr>\n",
              "      <th>2</th>\n",
              "      <td>green</td>\n",
              "      <td>sour</td>\n",
              "      <td>big</td>\n",
              "      <td>toxic</td>\n",
              "    </tr>\n",
              "    <tr>\n",
              "      <th>3</th>\n",
              "      <td>yellow</td>\n",
              "      <td>sweet</td>\n",
              "      <td>big</td>\n",
              "      <td>edible</td>\n",
              "    </tr>\n",
              "    <tr>\n",
              "      <th>4</th>\n",
              "      <td>yellow</td>\n",
              "      <td>sweet</td>\n",
              "      <td>medium</td>\n",
              "      <td>edible</td>\n",
              "    </tr>\n",
              "    <tr>\n",
              "      <th>5</th>\n",
              "      <td>red</td>\n",
              "      <td>sour</td>\n",
              "      <td>small</td>\n",
              "      <td>toxic</td>\n",
              "    </tr>\n",
              "  </tbody>\n",
              "</table>\n",
              "</div>"
            ],
            "text/plain": [
              "    color  taste    size ediblity\n",
              "0  yellow  sweet  medium   edible\n",
              "1     red  sweet   small   edible\n",
              "2   green   sour     big    toxic\n",
              "3  yellow  sweet     big   edible\n",
              "4  yellow  sweet  medium   edible\n",
              "5     red   sour   small    toxic"
            ]
          },
          "metadata": {
            "tags": []
          },
          "execution_count": 138
        }
      ]
    },
    {
      "cell_type": "code",
      "metadata": {
        "colab": {
          "base_uri": "https://localhost:8080/"
        },
        "id": "OoGMgsNN0Y1b",
        "outputId": "b69a753d-9102-4d4f-fcd3-48d70bcc5e35"
      },
      "source": [
        "P_edible, P_toxic = Proportions(df)\r\n",
        "print('Edible proportion: ', P_edible)\r\n",
        "print('Toxic proportion: ', P_toxic)"
      ],
      "execution_count": 139,
      "outputs": [
        {
          "output_type": "stream",
          "text": [
            "Edible proportion:  0.6666666666666666\n",
            "Toxic proportion:  0.3333333333333333\n"
          ],
          "name": "stdout"
        }
      ]
    },
    {
      "cell_type": "code",
      "metadata": {
        "colab": {
          "base_uri": "https://localhost:8080/"
        },
        "id": "SrAUPDIC2FYG",
        "outputId": "7172f00b-9223-4663-bb07-ccdcfe9fffad"
      },
      "source": [
        "#Calculate total entropy\r\n",
        "Entropy = Entropy(P_edible, P_toxic)\r\n",
        "Entropy"
      ],
      "execution_count": 140,
      "outputs": [
        {
          "output_type": "execute_result",
          "data": {
            "text/plain": [
              "0.9182958340544896"
            ]
          },
          "metadata": {
            "tags": []
          },
          "execution_count": 140
        }
      ]
    },
    {
      "cell_type": "code",
      "metadata": {
        "id": "ApZWeUup--Fd"
      },
      "source": [
        "colors = ['yellow', 'red', 'green']"
      ],
      "execution_count": 146,
      "outputs": []
    },
    {
      "cell_type": "markdown",
      "metadata": {
        "id": "2gEsqhDz5zho"
      },
      "source": [
        "### Calculate for _color_ feature"
      ]
    },
    {
      "cell_type": "code",
      "metadata": {
        "colab": {
          "base_uri": "https://localhost:8080/"
        },
        "id": "EHOIrX5ZBmnC",
        "outputId": "6eb6b9a1-7067-413c-bcec-b308a274cc58"
      },
      "source": [
        "Proportions_color, coeficients_color = Gain_coeficients(df, P_edible, P_toxic, Entropy, colors, 'color')\r\n",
        "print(Proportions_color)\r\n",
        "print(coeficients_color)"
      ],
      "execution_count": 149,
      "outputs": [
        {
          "output_type": "stream",
          "text": [
            "[0.5        0.33333333 0.16666667]\n",
            "[array([1., 0.]), array([0.5, 0.5]), array([0., 1.])]\n"
          ],
          "name": "stdout"
        }
      ]
    },
    {
      "cell_type": "code",
      "metadata": {
        "colab": {
          "base_uri": "https://localhost:8080/"
        },
        "id": "tBP3DvYKy5VO",
        "outputId": "b700241d-ced6-4c55-8c01-9d271b659b71"
      },
      "source": [
        "Entropy_gain_color = Entropy_gain(Proportions_color, coeficients_color)\r\n",
        "Entropy_gain_color"
      ],
      "execution_count": 150,
      "outputs": [
        {
          "output_type": "execute_result",
          "data": {
            "text/plain": [
              "0.3333333333333333"
            ]
          },
          "metadata": {
            "tags": []
          },
          "execution_count": 150
        }
      ]
    },
    {
      "cell_type": "code",
      "metadata": {
        "colab": {
          "base_uri": "https://localhost:8080/"
        },
        "id": "Ox3JQPKu4Zk6",
        "outputId": "d9548443-b4c1-4d3d-e719-5e3e056ddbe3"
      },
      "source": [
        "Gain_color = Entropy - Entropy_gain_color\r\n",
        "Gain_color"
      ],
      "execution_count": 151,
      "outputs": [
        {
          "output_type": "execute_result",
          "data": {
            "text/plain": [
              "0.5849625007211563"
            ]
          },
          "metadata": {
            "tags": []
          },
          "execution_count": 151
        }
      ]
    },
    {
      "cell_type": "markdown",
      "metadata": {
        "id": "ayS0bBbQ6Uyk"
      },
      "source": [
        "### Calculate for _size_ feature"
      ]
    },
    {
      "cell_type": "code",
      "metadata": {
        "id": "Yt8sW6cK7Uzv"
      },
      "source": [
        "sizes = ['medium', 'small', 'big']"
      ],
      "execution_count": 147,
      "outputs": []
    },
    {
      "cell_type": "code",
      "metadata": {
        "colab": {
          "base_uri": "https://localhost:8080/"
        },
        "id": "-Ql5D2Bg5ZVy",
        "outputId": "ce44349d-074c-4115-a79d-466f8c9e4740"
      },
      "source": [
        "Proportions_size, coeficients_size = Gain_coeficients(df, P_edible, P_toxic, Entropy, sizes, 'size')\r\n",
        "print(Proportions_size)\r\n",
        "print(coeficients_size)"
      ],
      "execution_count": 152,
      "outputs": [
        {
          "output_type": "stream",
          "text": [
            "[0.33333333 0.33333333 0.33333333]\n",
            "[array([1., 0.]), array([0.5, 0.5]), array([0.5, 0.5])]\n"
          ],
          "name": "stdout"
        }
      ]
    },
    {
      "cell_type": "code",
      "metadata": {
        "colab": {
          "base_uri": "https://localhost:8080/"
        },
        "id": "dEGDzb7H6mge",
        "outputId": "e83cfba8-d520-4d56-811c-e15631b7fa7d"
      },
      "source": [
        "Entropy_gain_size = Entropy_gain(Proportions_size, coeficients_size)\r\n",
        "Entropy_gain_size"
      ],
      "execution_count": 153,
      "outputs": [
        {
          "output_type": "execute_result",
          "data": {
            "text/plain": [
              "0.6666666666666666"
            ]
          },
          "metadata": {
            "tags": []
          },
          "execution_count": 153
        }
      ]
    },
    {
      "cell_type": "code",
      "metadata": {
        "colab": {
          "base_uri": "https://localhost:8080/"
        },
        "id": "gMk7shcW6uJw",
        "outputId": "8a0ecaa2-5c1d-4c51-d3a6-797cf8b36f6a"
      },
      "source": [
        "Gain_size = Entropy - Entropy_gain_size\r\n",
        "Gain_size"
      ],
      "execution_count": 154,
      "outputs": [
        {
          "output_type": "execute_result",
          "data": {
            "text/plain": [
              "0.2516291673878229"
            ]
          },
          "metadata": {
            "tags": []
          },
          "execution_count": 154
        }
      ]
    },
    {
      "cell_type": "markdown",
      "metadata": {
        "id": "9jV_mf718YlM"
      },
      "source": [
        "### Obtaining the best feature"
      ]
    },
    {
      "cell_type": "code",
      "metadata": {
        "colab": {
          "base_uri": "https://localhost:8080/"
        },
        "id": "Wa7boIDb8TW8",
        "outputId": "4e77535e-49ae-4a56-e734-263381ade8d2"
      },
      "source": [
        "best_feature_2(Gain_color, 'color', Gain_size, 'size')"
      ],
      "execution_count": 160,
      "outputs": [
        {
          "output_type": "stream",
          "text": [
            "Gain(color): 0.5849625007211563\n",
            "Gain(size): 0.2516291673878229\n",
            "\n",
            "\n",
            "The feature ->color<- is the best.\n"
          ],
          "name": "stdout"
        }
      ]
    }
  ]
}
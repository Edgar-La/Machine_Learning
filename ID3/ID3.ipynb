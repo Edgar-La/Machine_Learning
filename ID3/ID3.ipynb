{
  "nbformat": 4,
  "nbformat_minor": 0,
  "metadata": {
    "colab": {
      "name": "ID3.ipynb",
      "provenance": [],
      "authorship_tag": "ABX9TyP5fYAKXeTHurXFQ/8jo7+6",
      "include_colab_link": true
    },
    "kernelspec": {
      "name": "python3",
      "display_name": "Python 3"
    }
  },
  "cells": [
    {
      "cell_type": "markdown",
      "metadata": {
        "id": "view-in-github",
        "colab_type": "text"
      },
      "source": [
        "<a href=\"https://colab.research.google.com/github/Edgar-La/Machine_Learning/blob/main/ID3/ID3.ipynb\" target=\"_parent\"><img src=\"https://colab.research.google.com/assets/colab-badge.svg\" alt=\"Open In Colab\"/></a>"
      ]
    },
    {
      "cell_type": "code",
      "metadata": {
        "id": "c5QPN32hwXrt"
      },
      "source": [
        "import numpy as np\r\n",
        "import pandas as pd\r\n",
        "import math as mt"
      ],
      "execution_count": 18,
      "outputs": []
    },
    {
      "cell_type": "code",
      "metadata": {
        "id": "H5PFM-ukttSz"
      },
      "source": [
        "#Open the cvs file and save as pandas dataframe\r\n",
        "def open_file(name_file):\r\n",
        "  df = pd.read_csv(name_file)\r\n",
        "  return df"
      ],
      "execution_count": 6,
      "outputs": []
    },
    {
      "cell_type": "code",
      "metadata": {
        "id": "iX6_8QRR9HXL"
      },
      "source": [
        "#Obtaining proportions for editablity\r\n",
        "def Proportions(df):\r\n",
        "  Count_edible = 0; Count_toxic = 0\r\n",
        "  for n in range(len(df)):\r\n",
        "    if df['ediblity'][n] == 'edible':\r\n",
        "      Count_edible += 1\r\n",
        "    elif df['ediblity'][n] == 'toxic':\r\n",
        "      Count_toxic += 1\r\n",
        "  P_edible = Count_edible/len(df)\r\n",
        "  P_toxic = Count_toxic/len(df)\r\n",
        "  return P_edible, P_toxic"
      ],
      "execution_count": 28,
      "outputs": []
    },
    {
      "cell_type": "code",
      "metadata": {
        "id": "fbd7LMPy0pZ9"
      },
      "source": [
        "#Calculating Entropy\r\n",
        "def Entropy(P_edible, P_toxic):\r\n",
        "  Entropy = -P_edible*mt.log(P_edible, 2) - P_toxic*mt.log(P_toxic, 2)\r\n",
        "  return Entropy"
      ],
      "execution_count": 30,
      "outputs": []
    },
    {
      "cell_type": "code",
      "metadata": {
        "id": "aYRvWmlp2TGA"
      },
      "source": [
        "#Calculating Gain\r\n",
        "def Gain(matrix, P_edible, P_toxic, Entropy, values_A):\r\n",
        "\r\n",
        "  #Obtain coeficients |Sv|/|S|\r\n",
        "  Proportions = np.array([0,0,0])\r\n",
        "  for n in range(len(df)):\r\n",
        "    for i in range(len(values_A)):\r\n",
        "      if df['color'][n] == values_A[i]:\r\n",
        "        Proportions[i]+=1\r\n",
        "\r\n",
        "  #Now calculate entropy\r\n",
        "  \r\n",
        "  return Proportions/len(df)"
      ],
      "execution_count": 38,
      "outputs": []
    },
    {
      "cell_type": "code",
      "metadata": {
        "colab": {
          "base_uri": "https://localhost:8080/",
          "height": 223
        },
        "id": "swcH4bcwwj_d",
        "outputId": "c997e24a-01f0-4716-c30e-efd26e1a53f1"
      },
      "source": [
        "df = open_file('Mango.csv')\r\n",
        "df"
      ],
      "execution_count": 9,
      "outputs": [
        {
          "output_type": "execute_result",
          "data": {
            "text/html": [
              "<div>\n",
              "<style scoped>\n",
              "    .dataframe tbody tr th:only-of-type {\n",
              "        vertical-align: middle;\n",
              "    }\n",
              "\n",
              "    .dataframe tbody tr th {\n",
              "        vertical-align: top;\n",
              "    }\n",
              "\n",
              "    .dataframe thead th {\n",
              "        text-align: right;\n",
              "    }\n",
              "</style>\n",
              "<table border=\"1\" class=\"dataframe\">\n",
              "  <thead>\n",
              "    <tr style=\"text-align: right;\">\n",
              "      <th></th>\n",
              "      <th>color</th>\n",
              "      <th>taste</th>\n",
              "      <th>size</th>\n",
              "      <th>ediblity</th>\n",
              "    </tr>\n",
              "  </thead>\n",
              "  <tbody>\n",
              "    <tr>\n",
              "      <th>0</th>\n",
              "      <td>yellow</td>\n",
              "      <td>sweet</td>\n",
              "      <td>medium</td>\n",
              "      <td>edible</td>\n",
              "    </tr>\n",
              "    <tr>\n",
              "      <th>1</th>\n",
              "      <td>red</td>\n",
              "      <td>sweet</td>\n",
              "      <td>small</td>\n",
              "      <td>edible</td>\n",
              "    </tr>\n",
              "    <tr>\n",
              "      <th>2</th>\n",
              "      <td>green</td>\n",
              "      <td>sour</td>\n",
              "      <td>big</td>\n",
              "      <td>toxic</td>\n",
              "    </tr>\n",
              "    <tr>\n",
              "      <th>3</th>\n",
              "      <td>yellow</td>\n",
              "      <td>sweet</td>\n",
              "      <td>big</td>\n",
              "      <td>edible</td>\n",
              "    </tr>\n",
              "    <tr>\n",
              "      <th>4</th>\n",
              "      <td>yellow</td>\n",
              "      <td>sweet</td>\n",
              "      <td>medium</td>\n",
              "      <td>edible</td>\n",
              "    </tr>\n",
              "    <tr>\n",
              "      <th>5</th>\n",
              "      <td>red</td>\n",
              "      <td>sour</td>\n",
              "      <td>small</td>\n",
              "      <td>toxic</td>\n",
              "    </tr>\n",
              "  </tbody>\n",
              "</table>\n",
              "</div>"
            ],
            "text/plain": [
              "    color  taste    size ediblity\n",
              "0  yellow  sweet  medium   edible\n",
              "1     red  sweet   small   edible\n",
              "2   green   sour     big    toxic\n",
              "3  yellow  sweet     big   edible\n",
              "4  yellow  sweet  medium   edible\n",
              "5     red   sour   small    toxic"
            ]
          },
          "metadata": {
            "tags": []
          },
          "execution_count": 9
        }
      ]
    },
    {
      "cell_type": "code",
      "metadata": {
        "colab": {
          "base_uri": "https://localhost:8080/"
        },
        "id": "OoGMgsNN0Y1b",
        "outputId": "47f2431a-e562-4ef4-8d19-471904e97018"
      },
      "source": [
        "P_edible, P_toxic = Proportions(df)\r\n",
        "print('Edible proportion: ', P_edible)\r\n",
        "print('Toxic proportion: ', P_toxic)"
      ],
      "execution_count": 29,
      "outputs": [
        {
          "output_type": "stream",
          "text": [
            "Edible proportion:  0.6666666666666666\n",
            "Toxic proportion:  0.3333333333333333\n"
          ],
          "name": "stdout"
        }
      ]
    },
    {
      "cell_type": "code",
      "metadata": {
        "colab": {
          "base_uri": "https://localhost:8080/"
        },
        "id": "SrAUPDIC2FYG",
        "outputId": "85e8f0ba-0cce-4c10-92ba-2af83a113e8a"
      },
      "source": [
        "Entropy = Entropy(P_edible, P_toxic)\r\n",
        "Entropy"
      ],
      "execution_count": 31,
      "outputs": [
        {
          "output_type": "execute_result",
          "data": {
            "text/plain": [
              "0.9182958340544896"
            ]
          },
          "metadata": {
            "tags": []
          },
          "execution_count": 31
        }
      ]
    },
    {
      "cell_type": "code",
      "metadata": {
        "id": "ApZWeUup--Fd"
      },
      "source": [
        "colors = ['yellow', 'red', 'green']\r\n",
        "sizes = ['medium', 'small', 'big']"
      ],
      "execution_count": 33,
      "outputs": []
    },
    {
      "cell_type": "code",
      "metadata": {
        "colab": {
          "base_uri": "https://localhost:8080/"
        },
        "id": "EHOIrX5ZBmnC",
        "outputId": "0efdba1e-7b20-4907-bed8-df49e1eebf6a"
      },
      "source": [
        "Proportions = Gain(matrix, P_edible, P_toxic, Entropy, colors)\r\n",
        "Proportions"
      ],
      "execution_count": 39,
      "outputs": [
        {
          "output_type": "execute_result",
          "data": {
            "text/plain": [
              "array([0.5       , 0.33333333, 0.16666667])"
            ]
          },
          "metadata": {
            "tags": []
          },
          "execution_count": 39
        }
      ]
    }
  ]
}
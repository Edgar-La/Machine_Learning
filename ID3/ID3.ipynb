{
  "nbformat": 4,
  "nbformat_minor": 0,
  "metadata": {
    "colab": {
      "name": "ID3.ipynb",
      "provenance": [],
      "authorship_tag": "ABX9TyNs1px6B2RWKyIBXxkkuF0k",
      "include_colab_link": true
    },
    "kernelspec": {
      "name": "python3",
      "display_name": "Python 3"
    }
  },
  "cells": [
    {
      "cell_type": "markdown",
      "metadata": {
        "id": "view-in-github",
        "colab_type": "text"
      },
      "source": [
        "<a href=\"https://colab.research.google.com/github/Edgar-La/Machine_Learning/blob/main/ID3/ID3.ipynb\" target=\"_parent\"><img src=\"https://colab.research.google.com/assets/colab-badge.svg\" alt=\"Open In Colab\"/></a>"
      ]
    },
    {
      "cell_type": "markdown",
      "metadata": {
        "id": "IL250y7A5UuP"
      },
      "source": [
        "## Section to call the functions"
      ]
    },
    {
      "cell_type": "code",
      "metadata": {
        "id": "c5QPN32hwXrt"
      },
      "source": [
        "import numpy as np\r\n",
        "import pandas as pd\r\n",
        "import math as mt"
      ],
      "execution_count": 106,
      "outputs": []
    },
    {
      "cell_type": "code",
      "metadata": {
        "id": "H5PFM-ukttSz"
      },
      "source": [
        "#Open the cvs file and save as pandas dataframe\r\n",
        "def open_file(name_file):\r\n",
        "  df = pd.read_csv(name_file)\r\n",
        "  return df"
      ],
      "execution_count": 107,
      "outputs": []
    },
    {
      "cell_type": "code",
      "metadata": {
        "id": "iX6_8QRR9HXL"
      },
      "source": [
        "#Obtaining proportions for editablity\r\n",
        "def Proportions(df):\r\n",
        "  Count_edible = 0; Count_toxic = 0\r\n",
        "  for n in range(len(df)):\r\n",
        "    if df['ediblity'][n] == 'edible':\r\n",
        "      Count_edible += 1\r\n",
        "    elif df['ediblity'][n] == 'toxic':\r\n",
        "      Count_toxic += 1\r\n",
        "  P_edible = Count_edible/len(df)\r\n",
        "  P_toxic = Count_toxic/len(df)\r\n",
        "  return P_edible, P_toxic"
      ],
      "execution_count": 108,
      "outputs": []
    },
    {
      "cell_type": "code",
      "metadata": {
        "id": "fbd7LMPy0pZ9"
      },
      "source": [
        "#Calculating Entropy\r\n",
        "def Entropy(P_edible, P_toxic):\r\n",
        "  Entropy = -P_edible*mt.log(P_edible, 2) - P_toxic*mt.log(P_toxic, 2)\r\n",
        "  return Entropy"
      ],
      "execution_count": 109,
      "outputs": []
    },
    {
      "cell_type": "code",
      "metadata": {
        "id": "aYRvWmlp2TGA"
      },
      "source": [
        "#Calculating Gain coeficients\r\n",
        "def Gain_coeficients(df, P_edible, P_toxic, Entropy, values_A):\r\n",
        "\r\n",
        "  #Obtain coeficients |Sv|/|S|\r\n",
        "  Counts = np.array([0,0,0])\r\n",
        "  for n in range(len(df)):\r\n",
        "    for i in range(len(values_A)):\r\n",
        "      if df['color'][n] == values_A[i]:\r\n",
        "        Counts[i]+=1\r\n",
        "  Proportions = Counts/len(df)\r\n",
        "\r\n",
        "  #print(Proportions)\r\n",
        "  #print(Counts)\r\n",
        "  matrix_aux = []\r\n",
        "  for i in range(len(values_A)):\r\n",
        "    aux_1 = 0; aux_2 = 0   \r\n",
        "    for n in range(len(df)):\r\n",
        "      if df['color'][n] == values_A[i] and df['ediblity'][n] == 'edible':\r\n",
        "        aux_1 += 1\r\n",
        "      elif df['color'][n] == values_A[i] and df['ediblity'][n] == 'toxic':\r\n",
        "        aux_2 += 1\r\n",
        "    matrix_aux.append(np.array([aux_1, aux_2]))\r\n",
        "  #matrix_aux = np.array(matrix_aux)\r\n",
        "  #print(matrix_aux)\r\n",
        "\r\n",
        "  coeficients = [0,0,0]\r\n",
        "  for n in range(len(Counts)):\r\n",
        "    coeficients[n] = matrix_aux[n]/Counts[n]\r\n",
        "  #print(np.array(coeficients))\r\n",
        "\r\n",
        "\r\n",
        "\r\n",
        "  return Proportions, coeficients"
      ],
      "execution_count": 110,
      "outputs": []
    },
    {
      "cell_type": "code",
      "metadata": {
        "id": "p8k-LauUy6ze"
      },
      "source": [
        "#Calculating Entropy\r\n",
        "def Entropy_gain(Proportions, coeficients):\r\n",
        "  Entropy_gain = 0\r\n",
        "  for n in range(len(Proportions)):\r\n",
        "    if coeficients[n][0] == 0:\r\n",
        "      Entropy_gain += Proportions[n]*(- coeficients[n][1]*mt.log(coeficients[n][1], 2))\r\n",
        "    elif coeficients[n][1] == 0:\r\n",
        "      Entropy_gain += Proportions[n]*(-coeficients[n][0]*mt.log(coeficients[n][0], 2))\r\n",
        "    else:\r\n",
        "      Entropy_gain += Proportions[n]*(-coeficients[n][0]*mt.log(coeficients[n][0], 2) - coeficients[n][1]*mt.log(coeficients[n][1], 2))\r\n",
        "  return Entropy_gain"
      ],
      "execution_count": 125,
      "outputs": []
    },
    {
      "cell_type": "markdown",
      "metadata": {
        "id": "djSU39Rt5OPu"
      },
      "source": [
        "## Section to call the functions"
      ]
    },
    {
      "cell_type": "code",
      "metadata": {
        "colab": {
          "base_uri": "https://localhost:8080/",
          "height": 223
        },
        "id": "swcH4bcwwj_d",
        "outputId": "f1ca53e6-ab17-46b8-cd75-2273dee8b12c"
      },
      "source": [
        "df = open_file('Mango.csv')\r\n",
        "df"
      ],
      "execution_count": 112,
      "outputs": [
        {
          "output_type": "execute_result",
          "data": {
            "text/html": [
              "<div>\n",
              "<style scoped>\n",
              "    .dataframe tbody tr th:only-of-type {\n",
              "        vertical-align: middle;\n",
              "    }\n",
              "\n",
              "    .dataframe tbody tr th {\n",
              "        vertical-align: top;\n",
              "    }\n",
              "\n",
              "    .dataframe thead th {\n",
              "        text-align: right;\n",
              "    }\n",
              "</style>\n",
              "<table border=\"1\" class=\"dataframe\">\n",
              "  <thead>\n",
              "    <tr style=\"text-align: right;\">\n",
              "      <th></th>\n",
              "      <th>color</th>\n",
              "      <th>taste</th>\n",
              "      <th>size</th>\n",
              "      <th>ediblity</th>\n",
              "    </tr>\n",
              "  </thead>\n",
              "  <tbody>\n",
              "    <tr>\n",
              "      <th>0</th>\n",
              "      <td>yellow</td>\n",
              "      <td>sweet</td>\n",
              "      <td>medium</td>\n",
              "      <td>edible</td>\n",
              "    </tr>\n",
              "    <tr>\n",
              "      <th>1</th>\n",
              "      <td>red</td>\n",
              "      <td>sweet</td>\n",
              "      <td>small</td>\n",
              "      <td>edible</td>\n",
              "    </tr>\n",
              "    <tr>\n",
              "      <th>2</th>\n",
              "      <td>green</td>\n",
              "      <td>sour</td>\n",
              "      <td>big</td>\n",
              "      <td>toxic</td>\n",
              "    </tr>\n",
              "    <tr>\n",
              "      <th>3</th>\n",
              "      <td>yellow</td>\n",
              "      <td>sweet</td>\n",
              "      <td>big</td>\n",
              "      <td>edible</td>\n",
              "    </tr>\n",
              "    <tr>\n",
              "      <th>4</th>\n",
              "      <td>yellow</td>\n",
              "      <td>sweet</td>\n",
              "      <td>medium</td>\n",
              "      <td>edible</td>\n",
              "    </tr>\n",
              "    <tr>\n",
              "      <th>5</th>\n",
              "      <td>red</td>\n",
              "      <td>sour</td>\n",
              "      <td>small</td>\n",
              "      <td>toxic</td>\n",
              "    </tr>\n",
              "  </tbody>\n",
              "</table>\n",
              "</div>"
            ],
            "text/plain": [
              "    color  taste    size ediblity\n",
              "0  yellow  sweet  medium   edible\n",
              "1     red  sweet   small   edible\n",
              "2   green   sour     big    toxic\n",
              "3  yellow  sweet     big   edible\n",
              "4  yellow  sweet  medium   edible\n",
              "5     red   sour   small    toxic"
            ]
          },
          "metadata": {
            "tags": []
          },
          "execution_count": 112
        }
      ]
    },
    {
      "cell_type": "code",
      "metadata": {
        "colab": {
          "base_uri": "https://localhost:8080/"
        },
        "id": "OoGMgsNN0Y1b",
        "outputId": "4000eca8-316c-4d95-b8fa-ece55c0f1f13"
      },
      "source": [
        "P_edible, P_toxic = Proportions(df)\r\n",
        "print('Edible proportion: ', P_edible)\r\n",
        "print('Toxic proportion: ', P_toxic)"
      ],
      "execution_count": 113,
      "outputs": [
        {
          "output_type": "stream",
          "text": [
            "Edible proportion:  0.6666666666666666\n",
            "Toxic proportion:  0.3333333333333333\n"
          ],
          "name": "stdout"
        }
      ]
    },
    {
      "cell_type": "code",
      "metadata": {
        "colab": {
          "base_uri": "https://localhost:8080/"
        },
        "id": "SrAUPDIC2FYG",
        "outputId": "45d531f2-e2dd-4343-8211-536a7dbb1a36"
      },
      "source": [
        "#Calculate total entropy\r\n",
        "Entropy = Entropy(P_edible, P_toxic)\r\n",
        "Entropy"
      ],
      "execution_count": 114,
      "outputs": [
        {
          "output_type": "execute_result",
          "data": {
            "text/plain": [
              "0.9182958340544896"
            ]
          },
          "metadata": {
            "tags": []
          },
          "execution_count": 114
        }
      ]
    },
    {
      "cell_type": "code",
      "metadata": {
        "id": "ApZWeUup--Fd"
      },
      "source": [
        "colors = ['yellow', 'red', 'green']\r\n",
        "sizes = ['medium', 'small', 'big']"
      ],
      "execution_count": 115,
      "outputs": []
    },
    {
      "cell_type": "markdown",
      "metadata": {
        "id": "2gEsqhDz5zho"
      },
      "source": [
        "### Calculate for _color_ feature"
      ]
    },
    {
      "cell_type": "code",
      "metadata": {
        "colab": {
          "base_uri": "https://localhost:8080/"
        },
        "id": "EHOIrX5ZBmnC",
        "outputId": "171d005a-64e0-4500-9e1f-5003595291e3"
      },
      "source": [
        "Proportions_color, coeficients_color = Gain_coeficients(df, P_edible, P_toxic, Entropy, colors)\r\n",
        "print(Proportions_color)\r\n",
        "print(coeficients_color)"
      ],
      "execution_count": 123,
      "outputs": [
        {
          "output_type": "stream",
          "text": [
            "[0.5        0.33333333 0.16666667]\n",
            "[array([1., 0.]), array([0.5, 0.5]), array([0., 1.])]\n"
          ],
          "name": "stdout"
        }
      ]
    },
    {
      "cell_type": "code",
      "metadata": {
        "colab": {
          "base_uri": "https://localhost:8080/"
        },
        "id": "tBP3DvYKy5VO",
        "outputId": "cafd37dd-d516-4709-b1f0-88807f440c45"
      },
      "source": [
        "Entropy_gain_color = Entropy_gain(Proportions_color, coeficients_color)\r\n",
        "Entropy_gain_color"
      ],
      "execution_count": 127,
      "outputs": [
        {
          "output_type": "execute_result",
          "data": {
            "text/plain": [
              "0.3333333333333333"
            ]
          },
          "metadata": {
            "tags": []
          },
          "execution_count": 127
        }
      ]
    },
    {
      "cell_type": "code",
      "metadata": {
        "colab": {
          "base_uri": "https://localhost:8080/"
        },
        "id": "Ox3JQPKu4Zk6",
        "outputId": "d7f345b4-4adb-40fe-e713-892f27a5b6a0"
      },
      "source": [
        "Gain_color = Entropy - Entropy_gain_color\r\n",
        "Gain_color"
      ],
      "execution_count": 128,
      "outputs": [
        {
          "output_type": "execute_result",
          "data": {
            "text/plain": [
              "0.5849625007211563"
            ]
          },
          "metadata": {
            "tags": []
          },
          "execution_count": 128
        }
      ]
    },
    {
      "cell_type": "markdown",
      "metadata": {
        "id": "ayS0bBbQ6Uyk"
      },
      "source": [
        "### Calculate for _size_ feature"
      ]
    },
    {
      "cell_type": "code",
      "metadata": {
        "colab": {
          "base_uri": "https://localhost:8080/"
        },
        "id": "-Ql5D2Bg5ZVy",
        "outputId": "b11f6c44-230c-4504-d63b-9c912eefb8ce"
      },
      "source": [
        "Proportions_size, coeficients_size = Gain_coeficients(df, P_edible, P_toxic, Entropy, sizes)\r\n",
        "print(Proportions_size)\r\n",
        "print(coeficients_size)"
      ],
      "execution_count": 129,
      "outputs": [
        {
          "output_type": "stream",
          "text": [
            "[0. 0. 0.]\n",
            "[array([nan, nan]), array([nan, nan]), array([nan, nan])]\n"
          ],
          "name": "stdout"
        },
        {
          "output_type": "stream",
          "text": [
            "/usr/local/lib/python3.7/dist-packages/ipykernel_launcher.py:28: RuntimeWarning: invalid value encountered in true_divide\n"
          ],
          "name": "stderr"
        }
      ]
    },
    {
      "cell_type": "code",
      "metadata": {
        "colab": {
          "base_uri": "https://localhost:8080/"
        },
        "id": "dEGDzb7H6mge",
        "outputId": "f17d63e9-bb98-40f8-cde2-9d62ec5236e2"
      },
      "source": [
        "Entropy_gain_size = Entropy_gain(Proportions_size, coeficients_size)\r\n",
        "Entropy_gain_size"
      ],
      "execution_count": 130,
      "outputs": [
        {
          "output_type": "execute_result",
          "data": {
            "text/plain": [
              "nan"
            ]
          },
          "metadata": {
            "tags": []
          },
          "execution_count": 130
        }
      ]
    },
    {
      "cell_type": "code",
      "metadata": {
        "colab": {
          "base_uri": "https://localhost:8080/"
        },
        "id": "gMk7shcW6uJw",
        "outputId": "e67b7837-1ce0-42c5-b8b8-6befd539f1fd"
      },
      "source": [
        "Gain_size = Entropy - Entropy_gain_size\r\n",
        "Gain_size"
      ],
      "execution_count": 131,
      "outputs": [
        {
          "output_type": "execute_result",
          "data": {
            "text/plain": [
              "nan"
            ]
          },
          "metadata": {
            "tags": []
          },
          "execution_count": 131
        }
      ]
    }
  ]
}